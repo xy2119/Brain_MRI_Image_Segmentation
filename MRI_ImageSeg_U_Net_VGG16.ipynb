{
  "nbformat": 4,
  "nbformat_minor": 0,
  "metadata": {
    "colab": {
      "provenance": [],
      "collapsed_sections": [
        "kwY9GItBu4Ie",
        "pPROYHcZu_JW",
        "C6-G7RZKvF8p",
        "BkKckazUvHzG"
      ],
      "toc_visible": true,
      "include_colab_link": true
    },
    "kernelspec": {
      "name": "python3",
      "display_name": "Python 3"
    },
    "gpuClass": "standard",
    "accelerator": "GPU"
  },
  "cells": [
    {
      "cell_type": "markdown",
      "metadata": {
        "id": "view-in-github",
        "colab_type": "text"
      },
      "source": [
        "<a href=\"https://colab.research.google.com/github/xy2119/Brain_MRI_Image_Segmentation/blob/main/MRI_ImageSeg_U_Net_VGG16.ipynb\" target=\"_parent\"><img src=\"https://colab.research.google.com/assets/colab-badge.svg\" alt=\"Open In Colab\"/></a>"
      ]
    },
    {
      "cell_type": "markdown",
      "source": [
        "# Biomedical Image Segmentation for Brain Tumor | U-Net with Pretrained VGG16\n",
        "# Winner of the 2021 Imperial College Data Science Challenge\n",
        "\n",
        "Magnetic resonance imaging (MRI) has made great strides in diagnosing brain injuries and researching brain structure. Brain MRI improvements have provided large amount of data with an increasingly high level of quality. Clinicians must manually extract crucial information from big MRI datasets. Due to inter- or intraoperator variability studies, manual analysis is time-consuming and prone to inaccuracy. To improve diagnostic and testing processes, AI-based automated techniques have been developed to analyse brain MRI data.\n",
        "\n",
        "In the 2021 **[Data Science Institute](https://www.imperial.ac.uk/data-science/) Computer Vision Challenge**, a dataset of brain MRIs from patients with glioma was made available. We aim to apply semantic segmentation techniques to aid in the diagnosis of brain tumours.\n",
        "\n",
        "**[Prof. Yike Guo](https://www.imperial.ac.uk/people/y.guo)**, co-director of the Data Science Institute, recognised our work as the \"**Best Computer Vision Project**\". Since our model achieved the **highest accuracy (80%)** in the testing tasks, which uses a U-net architecture with a pretrained VGG16 and was trained on 90% of available data.\n",
        "\n",
        "This notebook is organised as follows:\n",
        "\n",
        "0. Install and Import Libraries\n",
        "1. Load Raw Data From Drive\n",
        "2. Visualise MRI 2D Image and Segmentation Maps\n",
        "3. Create Images and Masks Dataset\n",
        "4. U-Net Architecture with Pretrained VGG16\n",
        "5. Model Training\n",
        "6. Ready for Testing\n",
        "\n",
        "\n"
      ],
      "metadata": {
        "id": "wNammTPpYwvl"
      }
    },
    {
      "cell_type": "markdown",
      "source": [
        "Some information may be helpful before you repreducing this notebook:\n",
        "\n",
        "\n",
        "* I track my training using `wandb`. `wandb` is a tool for tracking and visualising machine learning experiments in real time on [Weights & Biases](https://wandb.ai) platform. Create an account and experiment with the interactive dashboards! If you already have an account, that's fantastic! To monitor this experiment, launch the notebook and paste your API key from your profile.\n",
        "\n",
        "\n",
        "* I import the raw data from Google Drive; the dataset URL is available [here](https://drive.google.com/drive/folders/1Y4MUrrfT-Xuos83nOnq8ZWTMZmp9qADH?usp=sharing).\n",
        "\n",
        "\n",
        "\n",
        "\n"
      ],
      "metadata": {
        "id": "Vum087bo61ML"
      }
    },
    {
      "cell_type": "markdown",
      "source": [
        "## Install and Import Libraries"
      ],
      "metadata": {
        "id": "vPX5vzoQ6d8B"
      }
    },
    {
      "cell_type": "code",
      "source": [
        "%%capture\n",
        "!pip install wandb\n",
        "!pip install SimpleITK\n",
        "!pip install torch-snippets"
      ],
      "metadata": {
        "id": "H2mqJSKpwSFT"
      },
      "execution_count": null,
      "outputs": []
    },
    {
      "cell_type": "code",
      "source": [
        "import torch\n",
        "from torch_snippets import *\n",
        "from torchvision import transforms\n",
        "from torchvision.models import vgg19_bn\n",
        "from torch.utils.data import Dataset, DataLoader, random_split\n",
        "\n",
        "import matplotlib.pyplot as plt\n",
        "from sklearn.model_selection import train_test_split\n",
        "\n",
        "import os\n",
        "import random\n",
        "import numpy as np\n",
        "from tqdm import tqdm\n",
        "import SimpleITK as sitk\n",
        "from skimage import io, transform"
      ],
      "metadata": {
        "id": "4kAHnUNHcHMW"
      },
      "execution_count": null,
      "outputs": []
    },
    {
      "cell_type": "code",
      "metadata": {
        "id": "5r38dynQvu7D",
        "colab": {
          "base_uri": "https://localhost:8080/",
          "height": 156
        },
        "outputId": "13cbd04c-493d-4b7a-e4ce-3bd7cb142551"
      },
      "source": [
        "# wandb login\n",
        "import wandb\n",
        "wandb.login()"
      ],
      "execution_count": null,
      "outputs": [
        {
          "output_type": "stream",
          "name": "stderr",
          "text": [
            "ERROR:wandb.jupyter:Failed to detect the name of this notebook, you can set it manually with the WANDB_NOTEBOOK_NAME environment variable to enable code saving.\n"
          ]
        },
        {
          "output_type": "display_data",
          "data": {
            "text/plain": [
              "<IPython.core.display.Javascript object>"
            ],
            "application/javascript": [
              "\n",
              "        window._wandbApiKey = new Promise((resolve, reject) => {\n",
              "            function loadScript(url) {\n",
              "            return new Promise(function(resolve, reject) {\n",
              "                let newScript = document.createElement(\"script\");\n",
              "                newScript.onerror = reject;\n",
              "                newScript.onload = resolve;\n",
              "                document.body.appendChild(newScript);\n",
              "                newScript.src = url;\n",
              "            });\n",
              "            }\n",
              "            loadScript(\"https://cdn.jsdelivr.net/npm/postmate/build/postmate.min.js\").then(() => {\n",
              "            const iframe = document.createElement('iframe')\n",
              "            iframe.style.cssText = \"width:0;height:0;border:none\"\n",
              "            document.body.appendChild(iframe)\n",
              "            const handshake = new Postmate({\n",
              "                container: iframe,\n",
              "                url: 'https://wandb.ai/authorize'\n",
              "            });\n",
              "            const timeout = setTimeout(() => reject(\"Couldn't auto authenticate\"), 5000)\n",
              "            handshake.then(function(child) {\n",
              "                child.on('authorize', data => {\n",
              "                    clearTimeout(timeout)\n",
              "                    resolve(data)\n",
              "                });\n",
              "            });\n",
              "            })\n",
              "        });\n",
              "    "
            ]
          },
          "metadata": {}
        },
        {
          "output_type": "stream",
          "name": "stderr",
          "text": [
            "\u001b[34m\u001b[1mwandb\u001b[0m: Logging into wandb.ai. (Learn how to deploy a W&B server locally: https://wandb.me/wandb-server)\n",
            "\u001b[34m\u001b[1mwandb\u001b[0m: You can find your API key in your browser here: https://wandb.ai/authorize\n",
            "wandb: Paste an API key from your profile and hit enter, or press ctrl+c to quit: "
          ]
        },
        {
          "name": "stdout",
          "output_type": "stream",
          "text": [
            "··········\n"
          ]
        },
        {
          "output_type": "stream",
          "name": "stderr",
          "text": [
            "\u001b[34m\u001b[1mwandb\u001b[0m: Appending key for api.wandb.ai to your netrc file: /root/.netrc\n"
          ]
        },
        {
          "output_type": "execute_result",
          "data": {
            "text/plain": [
              "True"
            ]
          },
          "metadata": {},
          "execution_count": 9
        }
      ]
    },
    {
      "cell_type": "code",
      "source": [
        "# Wandb configuration\n",
        "class config:\n",
        "    DEVICE = 'cuda' if torch.cuda.is_available() else 'cpu'\n",
        "    LEARNING_RATE = 1e-3\n",
        "    N_EPOCHS = 5\n",
        "\n",
        "# Set config\n",
        "WANDB_CONFIG = {'_wandb_kernel': 'neuracort'}\n",
        "\n",
        "# Initialize W&B\n",
        "run = wandb.init(\n",
        "    project='semantic_segmentation_unet', \n",
        "    config= WANDB_CONFIG\n",
        ")"
      ],
      "metadata": {
        "id": "NHEmqGTRuYPA",
        "colab": {
          "base_uri": "https://localhost:8080/",
          "height": 85
        },
        "outputId": "a5708023-5669-4b20-fda0-89d898d9e0c3"
      },
      "execution_count": null,
      "outputs": [
        {
          "output_type": "stream",
          "name": "stderr",
          "text": [
            "\u001b[34m\u001b[1mwandb\u001b[0m: Currently logged in as: \u001b[33mxy2119\u001b[0m (\u001b[33mfancykid\u001b[0m). Use \u001b[1m`wandb login --relogin`\u001b[0m to force relogin\n"
          ]
        },
        {
          "output_type": "display_data",
          "data": {
            "text/plain": [
              "<IPython.core.display.HTML object>"
            ],
            "text/html": [
              "Tracking run with wandb version 0.13.5"
            ]
          },
          "metadata": {}
        },
        {
          "output_type": "display_data",
          "data": {
            "text/plain": [
              "<IPython.core.display.HTML object>"
            ],
            "text/html": [
              "Run data is saved locally in <code>/content/wandb/run-20221125_190945-24mgc9rs</code>"
            ]
          },
          "metadata": {}
        },
        {
          "output_type": "display_data",
          "data": {
            "text/plain": [
              "<IPython.core.display.HTML object>"
            ],
            "text/html": [
              "Syncing run <strong><a href=\"https://wandb.ai/fancykid/semantic_segmentation_unet/runs/24mgc9rs\" target=\"_blank\">tough-donkey-19</a></strong> to <a href=\"https://wandb.ai/fancykid/semantic_segmentation_unet\" target=\"_blank\">Weights & Biases</a> (<a href=\"https://wandb.me/run\" target=\"_blank\">docs</a>)<br/>"
            ]
          },
          "metadata": {}
        }
      ]
    },
    {
      "cell_type": "markdown",
      "source": [
        "## Load Raw Data From Drive"
      ],
      "metadata": {
        "id": "6I22p6rau2T3"
      }
    },
    {
      "cell_type": "code",
      "source": [
        "\n",
        "from google.colab import drive\n",
        "drive.mount('/content/drive')"
      ],
      "metadata": {
        "colab": {
          "base_uri": "https://localhost:8080/"
        },
        "id": "iCfqoEyYjOUZ",
        "outputId": "779f8f93-885d-4b8f-c173-6f87c6707c27"
      },
      "execution_count": null,
      "outputs": [
        {
          "output_type": "stream",
          "name": "stdout",
          "text": [
            "Mounted at /content/drive\n"
          ]
        }
      ]
    },
    {
      "cell_type": "markdown",
      "source": [
        "## Visualise MRI 2D Image and Segmentation Maps\n",
        "\n",
        "\n",
        "\n",
        "Each MRI image contains information about a three-dimensional (3D) volume of space. An MRI image is composed of a number of voxels, which is like pixels in 2D images. The transverse plane of the volumes and the corresponding segmentation maps (masks) are visualised. \n",
        "\n"
      ],
      "metadata": {
        "id": "cOj_8x1GkML7"
      }
    },
    {
      "cell_type": "code",
      "source": [
        "def plot_samples(paths, files, n=10):\n",
        "    i = n\n",
        "    j = 2\n",
        "    plt.figure(figsize=(15,20))\n",
        "    k = 1\n",
        "    idx_nums = np.random.randint(len(files),size=n)\n",
        "    for idx in idx_nums:\n",
        "        plt.subplot(i,j,k)\n",
        "        while k%2 != 0:\n",
        "            # MRI images \n",
        "            img = sitk.GetArrayFromImage(sitk.ReadImage(os.path.join(paths,files[idx],f'{files[idx]}_fla.nii'))) \n",
        "            plt.imshow(img[100,:,:], cmap='gray')\n",
        "            plt.xlabel(\"Input\")\n",
        "            k += 1\n",
        "        plt.subplot(i,j,k)\n",
        "        # Segmentation maps \n",
        "        seg = sitk.GetArrayFromImage(sitk.ReadImage(os.path.join(paths,files[idx],f'{files[idx]}_seg.nii')))\n",
        "        plt.imshow(seg[100,:,:], cmap='gray')\n",
        "        plt.xlabel(\"Ground Truth\")\n",
        "        k += 1\n",
        "    plt.tight_layout()\n",
        "    plt.show()\n",
        "files_path = '/content/drive/MyDrive/Dataset/seg'\n",
        "files_lst = os.listdir(files_path)\n",
        "plot_samples(files_path, files_lst, n=5)"
      ],
      "metadata": {
        "colab": {
          "base_uri": "https://localhost:8080/",
          "height": 1000
        },
        "id": "BAbNojh2b6-N",
        "outputId": "50a83c70-2521-4252-983a-de7541ce5093"
      },
      "execution_count": null,
      "outputs": [
        {
          "output_type": "display_data",
          "data": {
            "text/plain": [
              "<Figure size 1080x1440 with 10 Axes>"
            ],
            "image/png": "[encoded data removed]"
          },
          "metadata": {
            "needs_background": "light"
          }
        }
      ]
    },
    {
      "cell_type": "markdown",
      "source": [
        "## Create Dataloader for Images and Masks"
      ],
      "metadata": {
        "id": "kwY9GItBu4Ie"
      }
    },
    {
      "cell_type": "code",
      "source": [
        "## Create MRI_data Dataset Class\n",
        "class MRI_data(Dataset):\n",
        "    def __init__(self,path):\n",
        "        self.path = path\n",
        "        self.patients = [item for item in all_files if \"img\" in item]\n",
        "        self.masks,self.images = [],[]\n",
        "\n",
        "        for (n, file_name) in enumerate(self.patients): \n",
        "          img = os.path.join(path,CLASS,file_name)\n",
        "          seg = os.path.join(path,CLASS,file_name.split('_')[0]+'_seg.npy')\n",
        "          \n",
        "          self.images.append(np.load(img))\n",
        "          self.masks.append(np.load(seg))\n",
        "                \n",
        "        self.images = np.array(self.images)\n",
        "        self.masks = np.array(self.masks)\n",
        "\n",
        "    def __len__(self):\n",
        "        return len(self.images)\n",
        "    \n",
        "    def __getitem__(self,idx):\n",
        "        image = self.images[idx]\n",
        "        mask = self.masks[idx]\n",
        "\n",
        "        # resize to 256 * 256, remember to transform in the test task\n",
        "        image = transform.resize(image,(256,256)) \n",
        "        image = image / 255\n",
        "        image = image.transpose((2, 0, 1,))\n",
        "        \n",
        "        # resize to 256 * 256 \n",
        "        mask = transform.resize(mask,(256,256)) \n",
        "        mask = mask / 255\n",
        "        mask = np.expand_dims(mask,axis=-1).transpose((2, 0, 1))\n",
        "\n",
        "        image = torch.from_numpy(image)\n",
        "        mask = torch.from_numpy(mask)\n",
        "        return image,mask\n",
        "\n",
        "    def choose(self): return self[randint(len(self))]\n",
        "    \n",
        "    def collate_fn(self, batch):\n",
        "        ims, masks = list(zip(*batch))\n",
        "\n",
        "        ims = torch.cat([(im) for im in ims]).float().to(config.DEVICE)\n",
        "        ce_masks = torch.cat([torch.Tensor(mask[None]) for mask in masks]).long().to(config.DEVICE)\n",
        "        return ims, ce_masks   "
      ],
      "metadata": {
        "id": "W8POAR3w-PMN"
      },
      "execution_count": null,
      "outputs": []
    },
    {
      "cell_type": "code",
      "source": [
        "path = '/content/drive/MyDrive/Dataset/'\n",
        "CLASS = 'Yes'\n",
        "all_files = os.listdir(path + CLASS)\n",
        "\n",
        "# Load image and mask as Dataset Class \n",
        "data = MRI_data(path)\n",
        "\n",
        "print('Length of dataset is {}'. format(data.__len__()))"
      ],
      "metadata": {
        "colab": {
          "base_uri": "https://localhost:8080/",
          "height": 33
        },
        "id": "XFljyim95_Fm",
        "outputId": "956b5d8f-bd1e-4629-9830-dc16e81bf6f6"
      },
      "execution_count": null,
      "outputs": [
        {
          "output_type": "display_data",
          "data": {
            "text/plain": [
              "Length of dataset is \u001b[1;36m3319\u001b[0m\n"
            ],
            "text/html": [
              "<pre style=\"white-space:pre;overflow-x:auto;line-height:normal;font-family:Menlo,'DejaVu Sans Mono',consolas,'Courier New',monospace\">Length of dataset is <span style=\"color: #008080; text-decoration-color: #008080; font-weight: bold\">3319</span>\n",
              "</pre>\n"
            ]
          },
          "metadata": {}
        }
      ]
    },
    {
      "cell_type": "code",
      "source": [
        "# Check image size and mask size\n",
        "for img,msk in data:\n",
        "    print(img.shape)\n",
        "    print(msk.shape)\n",
        "    break"
      ],
      "metadata": {
        "colab": {
          "base_uri": "https://localhost:8080/",
          "height": 49
        },
        "id": "bEC6iUpIQJDP",
        "outputId": "6898f9b3-6b4d-49bb-dd67-52e51794d1ef"
      },
      "execution_count": null,
      "outputs": [
        {
          "output_type": "display_data",
          "data": {
            "text/plain": [
              "\u001b[1;35mtorch.Size\u001b[0m\u001b[1m(\u001b[0m\u001b[1m[\u001b[0m\u001b[1;36m3\u001b[0m, \u001b[1;36m256\u001b[0m, \u001b[1;36m256\u001b[0m\u001b[1m]\u001b[0m\u001b[1m)\u001b[0m\n"
            ],
            "text/html": [
              "<pre style=\"white-space:pre;overflow-x:auto;line-height:normal;font-family:Menlo,'DejaVu Sans Mono',consolas,'Courier New',monospace\"><span style=\"color: #800080; text-decoration-color: #800080; font-weight: bold\">torch.Size</span><span style=\"font-weight: bold\">([</span><span style=\"color: #008080; text-decoration-color: #008080; font-weight: bold\">3</span>, <span style=\"color: #008080; text-decoration-color: #008080; font-weight: bold\">256</span>, <span style=\"color: #008080; text-decoration-color: #008080; font-weight: bold\">256</span><span style=\"font-weight: bold\">])</span>\n",
              "</pre>\n"
            ]
          },
          "metadata": {}
        },
        {
          "output_type": "display_data",
          "data": {
            "text/plain": [
              "\u001b[1;35mtorch.Size\u001b[0m\u001b[1m(\u001b[0m\u001b[1m[\u001b[0m\u001b[1;36m1\u001b[0m, \u001b[1;36m256\u001b[0m, \u001b[1;36m256\u001b[0m\u001b[1m]\u001b[0m\u001b[1m)\u001b[0m\n"
            ],
            "text/html": [
              "<pre style=\"white-space:pre;overflow-x:auto;line-height:normal;font-family:Menlo,'DejaVu Sans Mono',consolas,'Courier New',monospace\"><span style=\"color: #800080; text-decoration-color: #800080; font-weight: bold\">torch.Size</span><span style=\"font-weight: bold\">([</span><span style=\"color: #008080; text-decoration-color: #008080; font-weight: bold\">1</span>, <span style=\"color: #008080; text-decoration-color: #008080; font-weight: bold\">256</span>, <span style=\"color: #008080; text-decoration-color: #008080; font-weight: bold\">256</span><span style=\"font-weight: bold\">])</span>\n",
              "</pre>\n"
            ]
          },
          "metadata": {}
        }
      ]
    },
    {
      "cell_type": "code",
      "source": [
        "def collate_fn(batch):\n",
        "  ims, masks = list(zip(*batch))\n",
        "  \n",
        "  ims = torch.cat([(im/255) for im in ims]).float().to(config.DEVICE)\n",
        "\n",
        "  ce_masks = torch.cat([torch.Tensor(mask) for mask in masks]).long().to(config.DEVICE)\n",
        "\n",
        "  return ims, ce_masks   \n",
        "  \n",
        "def get_dataloaders():\n",
        "  trn_ds, val_ds = random_split(data, [2987, 332]) # train : test = 9:1\n",
        "\n",
        "  trn_dl = DataLoader(trn_ds, batch_size=1, shuffle=True, collate_fn=collate_fn)\n",
        "  val_dl = DataLoader(val_ds, batch_size=1, shuffle=True, collate_fn=collate_fn)\n",
        "\n",
        "  return trn_dl, val_dl\n",
        "\n",
        "# get image and mask dataloader \n",
        "trn_dl, val_dl = get_dataloaders()"
      ],
      "metadata": {
        "id": "bN_tQ4_SUIFe"
      },
      "execution_count": null,
      "outputs": []
    },
    {
      "cell_type": "markdown",
      "source": [
        "## U-Net Architecture with Pretrained VGG16"
      ],
      "metadata": {
        "id": "pPROYHcZu_JW"
      }
    },
    {
      "cell_type": "code",
      "metadata": {
        "id": "vIJ-JtHiwiUu"
      },
      "source": [
        "def conv(in_channels, out_channels):\n",
        "    return nn.Sequential(\n",
        "        nn.Conv2d(in_channels, out_channels, kernel_size=3, stride=1, padding=1),\n",
        "        nn.BatchNorm2d(out_channels),\n",
        "        nn.ReLU(inplace=True)\n",
        "    )\n",
        "    \n",
        "def up_conv(in_channels, out_channels):\n",
        "    return nn.Sequential(\n",
        "        nn.ConvTranspose2d(in_channels, out_channels, kernel_size=2, stride=2),\n",
        "        nn.ReLU(inplace=True)\n",
        "    )\n",
        "\n",
        "class UNet(nn.Module):\n",
        "    def __init__(self, pretrained=True,out_channels=12,):\n",
        "        super().__init__()\n",
        "        # Pre-trained VGG16 Model\n",
        "        self.encoder = vgg16_bn(weights=pretrained).features\n",
        "        self.block1 = nn.Sequential(*self.encoder[:6])\n",
        "        self.block2 = nn.Sequential(*self.encoder[6:13])\n",
        "        self.block3 = nn.Sequential(*self.encoder[13:20])\n",
        "        self.block4 = nn.Sequential(*self.encoder[20:27])\n",
        "        self.block5 = nn.Sequential(*self.encoder[27:34])\n",
        "     \n",
        "        self.bottleneck = nn.Sequential(*self.encoder[34:])\n",
        "        self.conv_bottleneck = conv(512, 1024)\n",
        "\n",
        "        self.up_conv6 = up_conv(1024, 512)\n",
        "        self.conv6 = conv(512 + 512, 512)\n",
        "        self.up_conv7 = up_conv(512, 256)\n",
        "        self.conv7 = conv(256 + 512, 256)\n",
        "        self.up_conv8 = up_conv(256, 128)\n",
        "        self.conv8 = conv(128 + 256, 128)\n",
        "        self.up_conv9 = up_conv(128, 64)\n",
        "        self.conv9 = conv(64 + 128, 64)\n",
        "        self.up_conv10 = up_conv(64, 32)\n",
        "        self.conv10 = conv(32 + 64, 32)\n",
        "        self.conv11 = nn.Conv2d(32, out_channels, kernel_size=1)\n",
        "        \n",
        "    def forward(self, x):\n",
        "        block1 = self.block1(x)\n",
        "        block2 = self.block2(block1)\n",
        "        block3 = self.block3(block2)\n",
        "        block4 = self.block4(block3)\n",
        "        block5 = self.block5(block4)\n",
        "\n",
        "        bottleneck = self.bottleneck(block5)\n",
        "        x = self.conv_bottleneck(bottleneck)\n",
        "\n",
        "        x = self.up_conv6(x)\n",
        "        x = torch.cat([x, block5], dim=1)\n",
        "        x = self.conv6(x)\n",
        "\n",
        "        x = self.up_conv7(x)\n",
        "        x = torch.cat([x, block4], dim=1)\n",
        "        x = self.conv7(x)\n",
        "\n",
        "        x = self.up_conv8(x)\n",
        "        x = torch.cat([x, block3], dim=1)\n",
        "        x = self.conv8(x)\n",
        "\n",
        "        x = self.up_conv9(x)\n",
        "        x = torch.cat([x, block2], dim=1)\n",
        "        x = self.conv9(x)\n",
        "\n",
        "        x = self.up_conv10(x)\n",
        "        x = torch.cat([x, block1], dim=1)\n",
        "        x = self.conv10(x)\n",
        "\n",
        "        x = self.conv11(x)\n",
        "\n",
        "        return x"
      ],
      "execution_count": null,
      "outputs": []
    },
    {
      "cell_type": "code",
      "metadata": {
        "id": "8c-Ztheqwqoi"
      },
      "source": [
        "# Define Loss Function\n",
        "ce = nn.CrossEntropyLoss()\n",
        "\n",
        "def UnetLoss(preds, targets):\n",
        "    ce_loss = ce(preds, targets)\n",
        "    acc = (torch.max(preds, 1)[1] == targets).float().mean()\n",
        "    return ce_loss, acc"
      ],
      "execution_count": null,
      "outputs": []
    },
    {
      "cell_type": "code",
      "metadata": {
        "id": "CzzQfvyrwx6M"
      },
      "source": [
        "# Engine \n",
        "class engine():\n",
        "  def train_batch(model, data, optimizer, criterion):\n",
        "      model.train()\n",
        "\n",
        "      ims, ce_masks = data\n",
        "      ims=ims.unsqueeze(0)\n",
        "      _masks = model(ims)\n",
        "      optimizer.zero_grad()\n",
        "\n",
        "      loss, acc = criterion(_masks, ce_masks)\n",
        "      loss.backward()\n",
        "      optimizer.step()\n",
        "\n",
        "      return loss.item(), acc.item()\n",
        "\n",
        "  @torch.no_grad()\n",
        "  def validate_batch(model, data, criterion):\n",
        "      model.eval()\n",
        "\n",
        "      ims, masks = data\n",
        "      ims=ims.unsqueeze(0)\n",
        "      _masks = model(ims)\n",
        "\n",
        "      loss, acc = criterion(_masks, masks)\n",
        "\n",
        "      return loss.item(), acc.item()"
      ],
      "execution_count": null,
      "outputs": []
    },
    {
      "cell_type": "code",
      "source": [
        "def make_model():\n",
        "  model = UNet().to(config.DEVICE)\n",
        "  criterion = UnetLoss\n",
        "  optimizer = optim.Adam(model.parameters(), lr=config.LEARNING_RATE)\n",
        "  return model, criterion, optimizer\n",
        "\n",
        "model, criterion, optimizer = make_model()"
      ],
      "metadata": {
        "id": "-ee0Lwf-xTol"
      },
      "execution_count": null,
      "outputs": []
    },
    {
      "cell_type": "markdown",
      "source": [
        "## Model Training"
      ],
      "metadata": {
        "id": "C6-G7RZKvF8p"
      }
    },
    {
      "cell_type": "code",
      "metadata": {
        "id": "6OfgZty5w1ie"
      },
      "source": [
        "def run():\n",
        "  for epoch in range(config.N_EPOCHS):\n",
        "      print(\"####################\")\n",
        "      print(f\"       Epoch: {epoch}   \")\n",
        "      print(\"####################\")\n",
        "\n",
        "      for bx, data in tqdm(enumerate(trn_dl), total = len(trn_dl)):\n",
        "          train_loss, train_acc = engine.train_batch(model, data, optimizer, criterion)\n",
        "\n",
        "      for bx, data in tqdm(enumerate(val_dl), total = len(val_dl)):\n",
        "          val_loss, val_acc = engine.validate_batch(model, data, criterion)\n",
        "\n",
        "      wandb.log(\n",
        "          {   \n",
        "              'epoch': epoch,\n",
        "              'train_loss': train_loss,\n",
        "              'train_acc': train_acc,\n",
        "              'val_loss': val_loss,\n",
        "              'val_acc': val_acc\n",
        "          }\n",
        "      )\n",
        "\n",
        "      print()"
      ],
      "execution_count": null,
      "outputs": []
    },
    {
      "cell_type": "code",
      "source": [
        "run()"
      ],
      "metadata": {
        "colab": {
          "base_uri": "https://localhost:8080/",
          "height": 427
        },
        "id": "GPe-G5V0yZeO",
        "outputId": "2ed6a939-6b5e-4349-b57b-5244e63c3142"
      },
      "execution_count": null,
      "outputs": [
        {
          "output_type": "display_data",
          "data": {
            "text/plain": [
              "####################\n"
            ],
            "text/html": [
              "<pre style=\"white-space:pre;overflow-x:auto;line-height:normal;font-family:Menlo,'DejaVu Sans Mono',consolas,'Courier New',monospace\">####################\n",
              "</pre>\n"
            ]
          },
          "metadata": {}
        },
        {
          "output_type": "display_data",
          "data": {
            "text/plain": [
              "       Epoch: \u001b[1;36m0\u001b[0m   \n"
            ],
            "text/html": [
              "<pre style=\"white-space:pre;overflow-x:auto;line-height:normal;font-family:Menlo,'DejaVu Sans Mono',consolas,'Courier New',monospace\">       Epoch: <span style=\"color: #008080; text-decoration-color: #008080; font-weight: bold\">0</span>   \n",
              "</pre>\n"
            ]
          },
          "metadata": {}
        },
        {
          "output_type": "display_data",
          "data": {
            "text/plain": [
              "####################\n"
            ],
            "text/html": [
              "<pre style=\"white-space:pre;overflow-x:auto;line-height:normal;font-family:Menlo,'DejaVu Sans Mono',consolas,'Courier New',monospace\">####################\n",
              "</pre>\n"
            ]
          },
          "metadata": {}
        },
        {
          "output_type": "stream",
          "name": "stderr",
          "text": [
            "100%|██████████| 3000/3000 [05:25<00:00,  9.21it/s]\n",
            "100%|██████████| 319/319 [00:21<00:00, 14.89it/s]\n"
          ]
        },
        {
          "output_type": "display_data",
          "data": {
            "text/plain": [
              "\n"
            ],
            "text/html": [
              "<pre style=\"white-space:pre;overflow-x:auto;line-height:normal;font-family:Menlo,'DejaVu Sans Mono',consolas,'Courier New',monospace\">\n",
              "</pre>\n"
            ]
          },
          "metadata": {}
        },
        {
          "output_type": "display_data",
          "data": {
            "text/plain": [
              "####################\n"
            ],
            "text/html": [
              "<pre style=\"white-space:pre;overflow-x:auto;line-height:normal;font-family:Menlo,'DejaVu Sans Mono',consolas,'Courier New',monospace\">####################\n",
              "</pre>\n"
            ]
          },
          "metadata": {}
        },
        {
          "output_type": "display_data",
          "data": {
            "text/plain": [
              "       Epoch: \u001b[1;36m1\u001b[0m   \n"
            ],
            "text/html": [
              "<pre style=\"white-space:pre;overflow-x:auto;line-height:normal;font-family:Menlo,'DejaVu Sans Mono',consolas,'Courier New',monospace\">       Epoch: <span style=\"color: #008080; text-decoration-color: #008080; font-weight: bold\">1</span>   \n",
              "</pre>\n"
            ]
          },
          "metadata": {}
        },
        {
          "output_type": "display_data",
          "data": {
            "text/plain": [
              "####################\n"
            ],
            "text/html": [
              "<pre style=\"white-space:pre;overflow-x:auto;line-height:normal;font-family:Menlo,'DejaVu Sans Mono',consolas,'Courier New',monospace\">####################\n",
              "</pre>\n"
            ]
          },
          "metadata": {}
        },
        {
          "output_type": "stream",
          "name": "stderr",
          "text": [
            "100%|██████████| 3000/3000 [04:54<00:00, 10.19it/s]\n",
            "100%|██████████| 319/319 [00:18<00:00, 17.23it/s]\n"
          ]
        },
        {
          "output_type": "display_data",
          "data": {
            "text/plain": [
              "\n"
            ],
            "text/html": [
              "<pre style=\"white-space:pre;overflow-x:auto;line-height:normal;font-family:Menlo,'DejaVu Sans Mono',consolas,'Courier New',monospace\">\n",
              "</pre>\n"
            ]
          },
          "metadata": {}
        },
        {
          "output_type": "display_data",
          "data": {
            "text/plain": [
              "####################\n"
            ],
            "text/html": [
              "<pre style=\"white-space:pre;overflow-x:auto;line-height:normal;font-family:Menlo,'DejaVu Sans Mono',consolas,'Courier New',monospace\">####################\n",
              "</pre>\n"
            ]
          },
          "metadata": {}
        },
        {
          "output_type": "display_data",
          "data": {
            "text/plain": [
              "       Epoch: \u001b[1;36m2\u001b[0m   \n"
            ],
            "text/html": [
              "<pre style=\"white-space:pre;overflow-x:auto;line-height:normal;font-family:Menlo,'DejaVu Sans Mono',consolas,'Courier New',monospace\">       Epoch: <span style=\"color: #008080; text-decoration-color: #008080; font-weight: bold\">2</span>   \n",
              "</pre>\n"
            ]
          },
          "metadata": {}
        },
        {
          "output_type": "display_data",
          "data": {
            "text/plain": [
              "####################\n"
            ],
            "text/html": [
              "<pre style=\"white-space:pre;overflow-x:auto;line-height:normal;font-family:Menlo,'DejaVu Sans Mono',consolas,'Courier New',monospace\">####################\n",
              "</pre>\n"
            ]
          },
          "metadata": {}
        },
        {
          "output_type": "stream",
          "name": "stderr",
          "text": [
            "100%|██████████| 3000/3000 [04:50<00:00, 10.34it/s]\n",
            "100%|██████████| 319/319 [00:21<00:00, 14.74it/s]\n"
          ]
        },
        {
          "output_type": "display_data",
          "data": {
            "text/plain": [
              "\n"
            ],
            "text/html": [
              "<pre style=\"white-space:pre;overflow-x:auto;line-height:normal;font-family:Menlo,'DejaVu Sans Mono',consolas,'Courier New',monospace\">\n",
              "</pre>\n"
            ]
          },
          "metadata": {}
        },
        {
          "output_type": "display_data",
          "data": {
            "text/plain": [
              "####################\n"
            ],
            "text/html": [
              "<pre style=\"white-space:pre;overflow-x:auto;line-height:normal;font-family:Menlo,'DejaVu Sans Mono',consolas,'Courier New',monospace\">####################\n",
              "</pre>\n"
            ]
          },
          "metadata": {}
        },
        {
          "output_type": "display_data",
          "data": {
            "text/plain": [
              "       Epoch: \u001b[1;36m3\u001b[0m   \n"
            ],
            "text/html": [
              "<pre style=\"white-space:pre;overflow-x:auto;line-height:normal;font-family:Menlo,'DejaVu Sans Mono',consolas,'Courier New',monospace\">       Epoch: <span style=\"color: #008080; text-decoration-color: #008080; font-weight: bold\">3</span>   \n",
              "</pre>\n"
            ]
          },
          "metadata": {}
        },
        {
          "output_type": "display_data",
          "data": {
            "text/plain": [
              "####################\n"
            ],
            "text/html": [
              "<pre style=\"white-space:pre;overflow-x:auto;line-height:normal;font-family:Menlo,'DejaVu Sans Mono',consolas,'Courier New',monospace\">####################\n",
              "</pre>\n"
            ]
          },
          "metadata": {}
        },
        {
          "output_type": "stream",
          "name": "stderr",
          "text": [
            "100%|██████████| 3000/3000 [04:56<00:00, 10.10it/s]\n",
            "100%|██████████| 319/319 [00:21<00:00, 14.74it/s]\n"
          ]
        },
        {
          "output_type": "display_data",
          "data": {
            "text/plain": [
              "\n"
            ],
            "text/html": [
              "<pre style=\"white-space:pre;overflow-x:auto;line-height:normal;font-family:Menlo,'DejaVu Sans Mono',consolas,'Courier New',monospace\">\n",
              "</pre>\n"
            ]
          },
          "metadata": {}
        },
        {
          "output_type": "display_data",
          "data": {
            "text/plain": [
              "####################\n"
            ],
            "text/html": [
              "<pre style=\"white-space:pre;overflow-x:auto;line-height:normal;font-family:Menlo,'DejaVu Sans Mono',consolas,'Courier New',monospace\">####################\n",
              "</pre>\n"
            ]
          },
          "metadata": {}
        },
        {
          "output_type": "display_data",
          "data": {
            "text/plain": [
              "       Epoch: \u001b[1;36m4\u001b[0m   \n"
            ],
            "text/html": [
              "<pre style=\"white-space:pre;overflow-x:auto;line-height:normal;font-family:Menlo,'DejaVu Sans Mono',consolas,'Courier New',monospace\">       Epoch: <span style=\"color: #008080; text-decoration-color: #008080; font-weight: bold\">4</span>   \n",
              "</pre>\n"
            ]
          },
          "metadata": {}
        },
        {
          "output_type": "display_data",
          "data": {
            "text/plain": [
              "####################\n"
            ],
            "text/html": [
              "<pre style=\"white-space:pre;overflow-x:auto;line-height:normal;font-family:Menlo,'DejaVu Sans Mono',consolas,'Courier New',monospace\">####################\n",
              "</pre>\n"
            ]
          },
          "metadata": {}
        },
        {
          "output_type": "stream",
          "name": "stderr",
          "text": [
            "100%|██████████| 3000/3000 [04:44<00:00, 10.55it/s]\n",
            "100%|██████████| 319/319 [00:16<00:00, 19.52it/s]\n"
          ]
        },
        {
          "output_type": "display_data",
          "data": {
            "text/plain": [
              "\n"
            ],
            "text/html": [
              "<pre style=\"white-space:pre;overflow-x:auto;line-height:normal;font-family:Menlo,'DejaVu Sans Mono',consolas,'Courier New',monospace\">\n",
              "</pre>\n"
            ]
          },
          "metadata": {}
        }
      ]
    },
    {
      "cell_type": "code",
      "source": [
        "# Save model for submission\n",
        "torch.save(model.state_dict(), '/trained_unet.hdf5')"
      ],
      "metadata": {
        "id": "JlFjh5aeJAhT"
      },
      "execution_count": null,
      "outputs": []
    },
    {
      "cell_type": "code",
      "source": [
        "# or save a scripted version\n",
        "model_scripted = torch.jit.script(model) \n",
        "model_scripted.save('trained_unet_scripted.pt') "
      ],
      "metadata": {
        "id": "i8ZtQIxNXKli"
      },
      "execution_count": null,
      "outputs": []
    },
    {
      "cell_type": "markdown",
      "source": [
        "## Ready for Testing \n"
      ],
      "metadata": {
        "id": "BkKckazUvHzG"
      }
    },
    {
      "cell_type": "code",
      "source": [
        "PATH= '/content/trained_unet.hdf5'\n",
        "model = UNet()\n",
        "model.load_state_dict(torch.load(PATH))\n",
        "model.eval()"
      ],
      "metadata": {
        "colab": {
          "base_uri": "https://localhost:8080/"
        },
        "id": "ENRslPu_pAP8",
        "outputId": "6dbbdbbd-87d8-4d4d-d493-6b036eee8f4a"
      },
      "execution_count": null,
      "outputs": [
        {
          "output_type": "execute_result",
          "data": {
            "text/plain": [
              "UNet(\n",
              "  (encoder): Sequential(\n",
              "    (0): Conv2d(3, 64, kernel_size=(3, 3), stride=(1, 1), padding=(1, 1))\n",
              "    (1): BatchNorm2d(64, eps=1e-05, momentum=0.1, affine=True, track_running_stats=True)\n",
              "    (2): ReLU(inplace=True)\n",
              "    (3): Conv2d(64, 64, kernel_size=(3, 3), stride=(1, 1), padding=(1, 1))\n",
              "    (4): BatchNorm2d(64, eps=1e-05, momentum=0.1, affine=True, track_running_stats=True)\n",
              "    (5): ReLU(inplace=True)\n",
              "    (6): MaxPool2d(kernel_size=2, stride=2, padding=0, dilation=1, ceil_mode=False)\n",
              "    (7): Conv2d(64, 128, kernel_size=(3, 3), stride=(1, 1), padding=(1, 1))\n",
              "    (8): BatchNorm2d(128, eps=1e-05, momentum=0.1, affine=True, track_running_stats=True)\n",
              "    (9): ReLU(inplace=True)\n",
              "    (10): Conv2d(128, 128, kernel_size=(3, 3), stride=(1, 1), padding=(1, 1))\n",
              "    (11): BatchNorm2d(128, eps=1e-05, momentum=0.1, affine=True, track_running_stats=True)\n",
              "    (12): ReLU(inplace=True)\n",
              "    (13): MaxPool2d(kernel_size=2, stride=2, padding=0, dilation=1, ceil_mode=False)\n",
              "    (14): Conv2d(128, 256, kernel_size=(3, 3), stride=(1, 1), padding=(1, 1))\n",
              "    (15): BatchNorm2d(256, eps=1e-05, momentum=0.1, affine=True, track_running_stats=True)\n",
              "    (16): ReLU(inplace=True)\n",
              "    (17): Conv2d(256, 256, kernel_size=(3, 3), stride=(1, 1), padding=(1, 1))\n",
              "    (18): BatchNorm2d(256, eps=1e-05, momentum=0.1, affine=True, track_running_stats=True)\n",
              "    (19): ReLU(inplace=True)\n",
              "    (20): Conv2d(256, 256, kernel_size=(3, 3), stride=(1, 1), padding=(1, 1))\n",
              "    (21): BatchNorm2d(256, eps=1e-05, momentum=0.1, affine=True, track_running_stats=True)\n",
              "    (22): ReLU(inplace=True)\n",
              "    (23): MaxPool2d(kernel_size=2, stride=2, padding=0, dilation=1, ceil_mode=False)\n",
              "    (24): Conv2d(256, 512, kernel_size=(3, 3), stride=(1, 1), padding=(1, 1))\n",
              "    (25): BatchNorm2d(512, eps=1e-05, momentum=0.1, affine=True, track_running_stats=True)\n",
              "    (26): ReLU(inplace=True)\n",
              "    (27): Conv2d(512, 512, kernel_size=(3, 3), stride=(1, 1), padding=(1, 1))\n",
              "    (28): BatchNorm2d(512, eps=1e-05, momentum=0.1, affine=True, track_running_stats=True)\n",
              "    (29): ReLU(inplace=True)\n",
              "    (30): Conv2d(512, 512, kernel_size=(3, 3), stride=(1, 1), padding=(1, 1))\n",
              "    (31): BatchNorm2d(512, eps=1e-05, momentum=0.1, affine=True, track_running_stats=True)\n",
              "    (32): ReLU(inplace=True)\n",
              "    (33): MaxPool2d(kernel_size=2, stride=2, padding=0, dilation=1, ceil_mode=False)\n",
              "    (34): Conv2d(512, 512, kernel_size=(3, 3), stride=(1, 1), padding=(1, 1))\n",
              "    (35): BatchNorm2d(512, eps=1e-05, momentum=0.1, affine=True, track_running_stats=True)\n",
              "    (36): ReLU(inplace=True)\n",
              "    (37): Conv2d(512, 512, kernel_size=(3, 3), stride=(1, 1), padding=(1, 1))\n",
              "    (38): BatchNorm2d(512, eps=1e-05, momentum=0.1, affine=True, track_running_stats=True)\n",
              "    (39): ReLU(inplace=True)\n",
              "    (40): Conv2d(512, 512, kernel_size=(3, 3), stride=(1, 1), padding=(1, 1))\n",
              "    (41): BatchNorm2d(512, eps=1e-05, momentum=0.1, affine=True, track_running_stats=True)\n",
              "    (42): ReLU(inplace=True)\n",
              "    (43): MaxPool2d(kernel_size=2, stride=2, padding=0, dilation=1, ceil_mode=False)\n",
              "  )\n",
              "  (block1): Sequential(\n",
              "    (0): Conv2d(3, 64, kernel_size=(3, 3), stride=(1, 1), padding=(1, 1))\n",
              "    (1): BatchNorm2d(64, eps=1e-05, momentum=0.1, affine=True, track_running_stats=True)\n",
              "    (2): ReLU(inplace=True)\n",
              "    (3): Conv2d(64, 64, kernel_size=(3, 3), stride=(1, 1), padding=(1, 1))\n",
              "    (4): BatchNorm2d(64, eps=1e-05, momentum=0.1, affine=True, track_running_stats=True)\n",
              "    (5): ReLU(inplace=True)\n",
              "  )\n",
              "  (block2): Sequential(\n",
              "    (0): MaxPool2d(kernel_size=2, stride=2, padding=0, dilation=1, ceil_mode=False)\n",
              "    (1): Conv2d(64, 128, kernel_size=(3, 3), stride=(1, 1), padding=(1, 1))\n",
              "    (2): BatchNorm2d(128, eps=1e-05, momentum=0.1, affine=True, track_running_stats=True)\n",
              "    (3): ReLU(inplace=True)\n",
              "    (4): Conv2d(128, 128, kernel_size=(3, 3), stride=(1, 1), padding=(1, 1))\n",
              "    (5): BatchNorm2d(128, eps=1e-05, momentum=0.1, affine=True, track_running_stats=True)\n",
              "    (6): ReLU(inplace=True)\n",
              "  )\n",
              "  (block3): Sequential(\n",
              "    (0): MaxPool2d(kernel_size=2, stride=2, padding=0, dilation=1, ceil_mode=False)\n",
              "    (1): Conv2d(128, 256, kernel_size=(3, 3), stride=(1, 1), padding=(1, 1))\n",
              "    (2): BatchNorm2d(256, eps=1e-05, momentum=0.1, affine=True, track_running_stats=True)\n",
              "    (3): ReLU(inplace=True)\n",
              "    (4): Conv2d(256, 256, kernel_size=(3, 3), stride=(1, 1), padding=(1, 1))\n",
              "    (5): BatchNorm2d(256, eps=1e-05, momentum=0.1, affine=True, track_running_stats=True)\n",
              "    (6): ReLU(inplace=True)\n",
              "  )\n",
              "  (block4): Sequential(\n",
              "    (0): Conv2d(256, 256, kernel_size=(3, 3), stride=(1, 1), padding=(1, 1))\n",
              "    (1): BatchNorm2d(256, eps=1e-05, momentum=0.1, affine=True, track_running_stats=True)\n",
              "    (2): ReLU(inplace=True)\n",
              "    (3): MaxPool2d(kernel_size=2, stride=2, padding=0, dilation=1, ceil_mode=False)\n",
              "    (4): Conv2d(256, 512, kernel_size=(3, 3), stride=(1, 1), padding=(1, 1))\n",
              "    (5): BatchNorm2d(512, eps=1e-05, momentum=0.1, affine=True, track_running_stats=True)\n",
              "    (6): ReLU(inplace=True)\n",
              "  )\n",
              "  (block5): Sequential(\n",
              "    (0): Conv2d(512, 512, kernel_size=(3, 3), stride=(1, 1), padding=(1, 1))\n",
              "    (1): BatchNorm2d(512, eps=1e-05, momentum=0.1, affine=True, track_running_stats=True)\n",
              "    (2): ReLU(inplace=True)\n",
              "    (3): Conv2d(512, 512, kernel_size=(3, 3), stride=(1, 1), padding=(1, 1))\n",
              "    (4): BatchNorm2d(512, eps=1e-05, momentum=0.1, affine=True, track_running_stats=True)\n",
              "    (5): ReLU(inplace=True)\n",
              "    (6): MaxPool2d(kernel_size=2, stride=2, padding=0, dilation=1, ceil_mode=False)\n",
              "  )\n",
              "  (bottleneck): Sequential(\n",
              "    (0): Conv2d(512, 512, kernel_size=(3, 3), stride=(1, 1), padding=(1, 1))\n",
              "    (1): BatchNorm2d(512, eps=1e-05, momentum=0.1, affine=True, track_running_stats=True)\n",
              "    (2): ReLU(inplace=True)\n",
              "    (3): Conv2d(512, 512, kernel_size=(3, 3), stride=(1, 1), padding=(1, 1))\n",
              "    (4): BatchNorm2d(512, eps=1e-05, momentum=0.1, affine=True, track_running_stats=True)\n",
              "    (5): ReLU(inplace=True)\n",
              "    (6): Conv2d(512, 512, kernel_size=(3, 3), stride=(1, 1), padding=(1, 1))\n",
              "    (7): BatchNorm2d(512, eps=1e-05, momentum=0.1, affine=True, track_running_stats=True)\n",
              "    (8): ReLU(inplace=True)\n",
              "    (9): MaxPool2d(kernel_size=2, stride=2, padding=0, dilation=1, ceil_mode=False)\n",
              "  )\n",
              "  (conv_bottleneck): Sequential(\n",
              "    (0): Conv2d(512, 1024, kernel_size=(3, 3), stride=(1, 1), padding=(1, 1))\n",
              "    (1): BatchNorm2d(1024, eps=1e-05, momentum=0.1, affine=True, track_running_stats=True)\n",
              "    (2): ReLU(inplace=True)\n",
              "  )\n",
              "  (up_conv6): Sequential(\n",
              "    (0): ConvTranspose2d(1024, 512, kernel_size=(2, 2), stride=(2, 2))\n",
              "    (1): ReLU(inplace=True)\n",
              "  )\n",
              "  (conv6): Sequential(\n",
              "    (0): Conv2d(1024, 512, kernel_size=(3, 3), stride=(1, 1), padding=(1, 1))\n",
              "    (1): BatchNorm2d(512, eps=1e-05, momentum=0.1, affine=True, track_running_stats=True)\n",
              "    (2): ReLU(inplace=True)\n",
              "  )\n",
              "  (up_conv7): Sequential(\n",
              "    (0): ConvTranspose2d(512, 256, kernel_size=(2, 2), stride=(2, 2))\n",
              "    (1): ReLU(inplace=True)\n",
              "  )\n",
              "  (conv7): Sequential(\n",
              "    (0): Conv2d(768, 256, kernel_size=(3, 3), stride=(1, 1), padding=(1, 1))\n",
              "    (1): BatchNorm2d(256, eps=1e-05, momentum=0.1, affine=True, track_running_stats=True)\n",
              "    (2): ReLU(inplace=True)\n",
              "  )\n",
              "  (up_conv8): Sequential(\n",
              "    (0): ConvTranspose2d(256, 128, kernel_size=(2, 2), stride=(2, 2))\n",
              "    (1): ReLU(inplace=True)\n",
              "  )\n",
              "  (conv8): Sequential(\n",
              "    (0): Conv2d(384, 128, kernel_size=(3, 3), stride=(1, 1), padding=(1, 1))\n",
              "    (1): BatchNorm2d(128, eps=1e-05, momentum=0.1, affine=True, track_running_stats=True)\n",
              "    (2): ReLU(inplace=True)\n",
              "  )\n",
              "  (up_conv9): Sequential(\n",
              "    (0): ConvTranspose2d(128, 64, kernel_size=(2, 2), stride=(2, 2))\n",
              "    (1): ReLU(inplace=True)\n",
              "  )\n",
              "  (conv9): Sequential(\n",
              "    (0): Conv2d(192, 64, kernel_size=(3, 3), stride=(1, 1), padding=(1, 1))\n",
              "    (1): BatchNorm2d(64, eps=1e-05, momentum=0.1, affine=True, track_running_stats=True)\n",
              "    (2): ReLU(inplace=True)\n",
              "  )\n",
              "  (up_conv10): Sequential(\n",
              "    (0): ConvTranspose2d(64, 32, kernel_size=(2, 2), stride=(2, 2))\n",
              "    (1): ReLU(inplace=True)\n",
              "  )\n",
              "  (conv10): Sequential(\n",
              "    (0): Conv2d(96, 32, kernel_size=(3, 3), stride=(1, 1), padding=(1, 1))\n",
              "    (1): BatchNorm2d(32, eps=1e-05, momentum=0.1, affine=True, track_running_stats=True)\n",
              "    (2): ReLU(inplace=True)\n",
              "  )\n",
              "  (conv11): Conv2d(32, 12, kernel_size=(1, 1), stride=(1, 1))\n",
              ")"
            ]
          },
          "metadata": {},
          "execution_count": 19
        }
      ]
    }
  ]
}